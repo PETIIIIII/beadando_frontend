{
  "cells": [
    {
      "cell_type": "markdown",
      "metadata": {
        "id": "view-in-github",
        "colab_type": "text"
      },
      "source": [
        "<a href=\"https://colab.research.google.com/github/PETIIIIII/beadando_frontend/blob/main/KP_hf.ipynb\" target=\"_parent\"><img src=\"https://colab.research.google.com/assets/colab-badge.svg\" alt=\"Open In Colab\"/></a>"
      ]
    },
    {
      "cell_type": "code",
      "execution_count": null,
      "metadata": {
        "id": "6k7qYm_9YWb_"
      },
      "outputs": [],
      "source": [
        "\"\"\"A BAF3A adatkészleten véletlen erdők, SVC segítségével jelezze előre a ClassValue-t. \n",
        "A modell építés során használjon keresztvalidálást és hiperparaméter hangolást (n_estimators, max_depth paraméterekkel) \n",
        "és az SVC esetén (C, gamma, kernel) a GridSearchCV segítségével! BAF3A fúrás adatok, \n",
        "ahol a kőzet típusát kell előre jelezni fizikai paraméterek alapján.\n",
        "\n",
        "Adatok: https://raw.githubusercontent.com/karsarobert/Machine_Learning_2023/main/BAF3A.csv\n",
        "\n",
        "X = df.drop(['ClassName', 'ClassValue'], axis=1)\n",
        "\n",
        "y = df['ClassValue']\"\"\""
      ]
    },
    {
      "cell_type": "code",
      "execution_count": null,
      "metadata": {
        "id": "GLaPPSJmZ-Ma"
      },
      "outputs": [],
      "source": [
        "import pandas as pd\n",
        "from sklearn.ensemble import RandomForestClassifier\n",
        "from sklearn.model_selection import GridSearchCV, train_test_split\n",
        "from sklearn.metrics import classification_report\n",
        "from sklearn.svm import SVC\n",
        "from sklearn.impute import SimpleImputer"
      ]
    },
    {
      "cell_type": "code",
      "execution_count": null,
      "metadata": {
        "id": "ishDZ-dtZtek"
      },
      "outputs": [],
      "source": [
        "df = pd.read_csv(\"https://raw.githubusercontent.com/karsarobert/Machine_Learning_2023/main/BAF3A.csv\")\n",
        "\n",
        "X = df.drop(['ClassName', 'ClassValue'], axis=1)\n",
        "\n",
        "y = df['ClassValue']\n",
        "\n",
        "print(df.isnull().any())"
      ]
    },
    {
      "cell_type": "code",
      "execution_count": null,
      "metadata": {
        "id": "SDhmB6CTcIu8"
      },
      "outputs": [],
      "source": [
        "X_train, X_test, y_train, y_test = train_test_split(X, y, test_size=0.2, random_state=1)"
      ]
    },
    {
      "cell_type": "code",
      "execution_count": null,
      "metadata": {
        "id": "OSgaU3_3c5C0"
      },
      "outputs": [],
      "source": [
        "imputer = SimpleImputer(strategy='median')\n",
        "X_train = pd.DataFrame(imputer.fit_transform(X_train), columns=X_train.columns)\n",
        "print(X_train.isnull().any())"
      ]
    },
    {
      "cell_type": "code",
      "execution_count": null,
      "metadata": {
        "id": "zQpyO4HYcVe5"
      },
      "outputs": [],
      "source": [
        "rfc = RandomForestClassifier()\n",
        "\n",
        "params = {\n",
        "    'n_estimators': [50, 100, 150],\n",
        "    'max_depth': [5, 10, 15]\n",
        "}\n",
        "\n",
        "grid_rfc = GridSearchCV(rfc, params, cv=5)\n",
        "grid_rfc.fit(X_train, y_train)"
      ]
    },
    {
      "cell_type": "code",
      "execution_count": null,
      "metadata": {
        "id": "s1lgs_Ptdu9v"
      },
      "outputs": [],
      "source": [
        "grid_rfc.best_params_"
      ]
    },
    {
      "cell_type": "code",
      "execution_count": null,
      "metadata": {
        "id": "WuJgUBsNdlea"
      },
      "outputs": [],
      "source": [
        "grid_rfc.best_score_"
      ]
    },
    {
      "cell_type": "code",
      "execution_count": null,
      "metadata": {
        "colab": {
          "background_save": true,
          "base_uri": "https://localhost:8080/"
        },
        "id": "Y0QXv5_leGv3",
        "outputId": "e4871c44-1274-495f-9471-8dcc5cb3802b"
      },
      "outputs": [
        {
          "name": "stderr",
          "output_type": "stream",
          "text": [
            "/usr/local/lib/python3.9/dist-packages/sklearn/model_selection/_split.py:700: UserWarning: The least populated class in y has only 1 members, which is less than n_splits=5.\n",
            "  warnings.warn(\n"
          ]
        }
      ],
      "source": [
        "svc = SVC()\n",
        "\n",
        "params = {\n",
        "    'C': [0.1, 1, 10],\n",
        "    'gamma': [0.1, 1, 10],\n",
        "    'kernel': ['linear', 'rbf', 'poly']\n",
        "}\n",
        "\n",
        "grid_svc = GridSearchCV(svc, params, cv=5)\n",
        "grid_svc.fit(X_train, y_train)\n"
      ]
    },
    {
      "cell_type": "code",
      "execution_count": null,
      "metadata": {
        "id": "IEXLOf7XeRod"
      },
      "outputs": [],
      "source": [
        "grid_svc.best_params_"
      ]
    },
    {
      "cell_type": "code",
      "execution_count": null,
      "metadata": {
        "id": "2ZZUZFZ3eSEc"
      },
      "outputs": [],
      "source": [
        "grid_svc.best_score_"
      ]
    }
  ],
  "metadata": {
    "colab": {
      "provenance": [],
      "include_colab_link": true
    },
    "kernelspec": {
      "display_name": "Python 3",
      "name": "python3"
    },
    "language_info": {
      "name": "python"
    }
  },
  "nbformat": 4,
  "nbformat_minor": 0
}